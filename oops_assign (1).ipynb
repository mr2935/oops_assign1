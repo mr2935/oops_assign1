{
 "cells": [
  {
   "cell_type": "markdown",
   "id": "8fd0bbb8-752d-451a-9538-b31bde839951",
   "metadata": {},
   "source": [
    "1 .A class can be thought of as a blueprint or a template, while an object is an instance of that blueprint or template with specific values assigned to its attributes."
   ]
  },
  {
   "cell_type": "code",
   "execution_count": 2,
   "id": "a358ea8d-8716-4f92-beb7-4735417ca17c",
   "metadata": {},
   "outputs": [
    {
     "name": "stdout",
     "output_type": "stream",
     "text": [
      "My name is Muskan\n"
     ]
    }
   ],
   "source": [
    "class student:\n",
    "    def details(self):\n",
    "        print(\"My name is Muskan\")\n",
    "s=student()\n",
    "s.details()"
   ]
  },
  {
   "cell_type": "markdown",
   "id": "97a210ff-cf28-4108-9cd7-510cefb193cf",
   "metadata": {},
   "source": [
    "2. Four pillars of oops:\n",
    "1.Encapsulation\n",
    "2.Inheritance\n",
    "3.Abstraction\n",
    "4.Polymorphism\n"
   ]
  },
  {
   "cell_type": "markdown",
   "id": "fe8edea8-2208-45d1-82dc-ab7c1de41abb",
   "metadata": {},
   "source": [
    "3.The __init__() function is used as a constructor in python classes.The __init__() method allows you to set the initial state or values of the attributes for each object created from the class."
   ]
  },
  {
   "cell_type": "code",
   "execution_count": 4,
   "id": "4a98c94a-b283-4db7-beec-07e947ea4203",
   "metadata": {},
   "outputs": [
    {
     "name": "stdout",
     "output_type": "stream",
     "text": [
      "John\n",
      "25\n",
      "Name:  John\n",
      "Age:  25\n"
     ]
    }
   ],
   "source": [
    "class Person:\n",
    "    def __init__(self, name, age):\n",
    "        self.name = name\n",
    "        self.age = age\n",
    "\n",
    "    def display_info(self):\n",
    "        print(\"Name: \", self.name)\n",
    "        print(\"Age: \", self.age)\n",
    "\n",
    "person1 = Person(\"John\", 25)\n",
    "print(person1.name)  # Output: \"John\"\n",
    "print(person1.age)   # Output: 25\n",
    "person1.display_info()"
   ]
  },
  {
   "cell_type": "markdown",
   "id": "c4f4e793-e326-4d4a-b8b7-791f8ec507aa",
   "metadata": {},
   "source": [
    " 4.In object-oriented programming (OOP), self is a reference that is used to refer to the instance of an object within a class. It is a convention in Python to use self as the first parameter in the method definitions of a class, which refers to the instance of the object on which the method is being called."
   ]
  },
  {
   "cell_type": "markdown",
   "id": "fccaba9a-36ae-4402-b900-47b72a2e9039",
   "metadata": {},
   "source": [
    "5.Inheritance is a fundamental concept in object-oriented programming (OOP) where a class can inherit properties and behaviors from another class. The class that inherits is called the child or derived class, and the class from which properties and behaviors are inherited is called the parent or base class."
   ]
  },
  {
   "cell_type": "markdown",
   "id": "230b7fc9-9e27-4f35-838e-77c0b49d717e",
   "metadata": {},
   "source": [
    "There are 5 types of inheritance:\n",
    "    1. single Inheritance:Single inheritance: In single inheritance, a child class inherits from a single parent class. It is the simplest form of inheritance.\n",
    "\n",
    "    "
   ]
  },
  {
   "cell_type": "code",
   "execution_count": 6,
   "id": "c843a8da-0df0-475b-be64-2a697c1503c0",
   "metadata": {},
   "outputs": [
    {
     "name": "stdout",
     "output_type": "stream",
     "text": [
      "Cat make sound\n"
     ]
    }
   ],
   "source": [
    "class Animal:\n",
    "    def sound(self):\n",
    "        print(\"Animal make sound\")\n",
    "class cat(Animal):\n",
    "    def sound(self):\n",
    "        print(\"Cat make sound\")\n",
    "c=cat()\n",
    "c.sound()"
   ]
  },
  {
   "cell_type": "markdown",
   "id": "82cc1299-a366-4456-bb08-dfbcf0d0a1ec",
   "metadata": {},
   "source": [
    "2.Multiple inheritance: In multiple inheritance, a child class inherits from more than one parent class. This allows a class to inherit properties and behaviors from multiple sources."
   ]
  },
  {
   "cell_type": "markdown",
   "id": "dd38ba61-e5ea-4740-8c62-e8cec921dad0",
   "metadata": {},
   "source": [
    "class Animal:\n",
    "    def make_sound(self):\n",
    "        print(\"Animal makes sound\")\n",
    "\n",
    "class Bird:\n",
    "    def fly(self):\n",
    "        print(\"Bird flies\")\n",
    "\n",
    "class Pegasus(Animal, Bird):\n",
    "    pass\n",
    "pegasus1 = Pegasus()\n",
    "pegasus1.make_sound()  \n",
    "pegasus1.fly()        \n"
   ]
  },
  {
   "cell_type": "markdown",
   "id": "a686c5ee-73d0-4ebd-8b44-271cae11014f",
   "metadata": {},
   "source": [
    "3.Multi-level inheritance: In multi-level inheritance, a child class inherits from a parent class, which in turn inherits from another parent class. This creates a chain of inheritance.\n"
   ]
  },
  {
   "cell_type": "code",
   "execution_count": 11,
   "id": "69929433-0038-4c03-a11d-305390ee12ea",
   "metadata": {},
   "outputs": [
    {
     "name": "stdout",
     "output_type": "stream",
     "text": [
      "Dog barks\n"
     ]
    }
   ],
   "source": [
    "class Animal:\n",
    "    def make_sound(self):\n",
    "        print(\"Animal makes sound\")\n",
    "\n",
    "class Dog(Animal):\n",
    "    def make_sound(self):\n",
    "        print(\"Dog barks\")\n",
    "\n",
    "class Bulldog(Dog):\n",
    "    pass\n",
    "\n",
    "# Child class Bulldog inherits from parent class Dog, which in turn inherits from Animal class\n",
    "bulldog1 = Bulldog()\n",
    "bulldog1.make_sound()"
   ]
  },
  {
   "cell_type": "markdown",
   "id": "478480d0-0689-446f-8e47-a687b628829c",
   "metadata": {},
   "source": [
    "4.Hierarchical inheritance: In hierarchical inheritance, multiple child classes inherit from a single parent class, creating a hierarchical tree-like structure."
   ]
  },
  {
   "cell_type": "code",
   "execution_count": 12,
   "id": "d0343c20-704f-47e1-a4d8-b36923d8d408",
   "metadata": {},
   "outputs": [
    {
     "name": "stdout",
     "output_type": "stream",
     "text": [
      "Animal makes sound\n",
      "Animal makes sound\n"
     ]
    }
   ],
   "source": [
    "class Animal:\n",
    "    def make_sound(self):\n",
    "        print(\"Animal makes sound\")\n",
    "\n",
    "class Dog(Animal):\n",
    "    pass\n",
    "\n",
    "class Cat(Animal):\n",
    "    pass\n",
    "\n",
    "# Child classes Dog and Cat both inherit from parent class Animal\n",
    "dog1 = Dog()\n",
    "dog1.make_sound()  # Output: \"Animal makes sound\"\n",
    "\n",
    "cat1 = Cat()\n",
    "cat1.make_sound()"
   ]
  },
  {
   "cell_type": "markdown",
   "id": "3edb8e6d-132a-4bd6-878a-1d6f3de198dd",
   "metadata": {},
   "source": [
    "5.Hybrid inheritance: Hybrid inheritance refers to a combination of two or more types of inheritance, such as multiple and multi-level inheritance."
   ]
  },
  {
   "cell_type": "code",
   "execution_count": 1,
   "id": "d5019b25-b311-4922-b784-917325a7f73b",
   "metadata": {},
   "outputs": [
    {
     "name": "stdout",
     "output_type": "stream",
     "text": [
      "Method A from class A\n",
      "Method B from class B\n",
      "Method C from class C\n",
      "Method D from class D\n",
      "Method E from class E\n"
     ]
    }
   ],
   "source": [
    "class A:\n",
    "    def method_a(self):\n",
    "        print(\"Method A from class A\")\n",
    "\n",
    "# Base class B\n",
    "class B:\n",
    "    def method_b(self):\n",
    "        print(\"Method B from class B\")\n",
    "\n",
    "# Class C inherits from class A and B\n",
    "class C(A, B):\n",
    "    def method_c(self):\n",
    "        print(\"Method C from class C\")\n",
    "\n",
    "# Class D inherits from class A and B\n",
    "class D(A, B):\n",
    "    def method_d(self):\n",
    "        print(\"Method D from class D\")\n",
    "\n",
    "# Class E inherits from class C and D\n",
    "class E(C, D):\n",
    "    def method_e(self):\n",
    "        print(\"Method E from class E\")\n",
    "\n",
    "# Create an object of class E\n",
    "obj = E()\n",
    "\n",
    "# Call methods from different classes using the object\n",
    "obj.method_a()  # Method A from class A\n",
    "obj.method_b()  # Method B from class B\n",
    "obj.method_c()  # Method C from class C\n",
    "obj.method_d()  # Method D from class D\n",
    "obj.method_e()  # Method E from class E\n",
    "\n",
    "\n",
    "\n",
    "\n",
    "\n",
    "\n"
   ]
  },
  {
   "cell_type": "code",
   "execution_count": null,
   "id": "27659235-03f0-46b1-906d-225dfc138eba",
   "metadata": {},
   "outputs": [],
   "source": []
  }
 ],
 "metadata": {
  "kernelspec": {
   "display_name": "Python 3 (ipykernel)",
   "language": "python",
   "name": "python3"
  },
  "language_info": {
   "codemirror_mode": {
    "name": "ipython",
    "version": 3
   },
   "file_extension": ".py",
   "mimetype": "text/x-python",
   "name": "python",
   "nbconvert_exporter": "python",
   "pygments_lexer": "ipython3",
   "version": "3.10.8"
  }
 },
 "nbformat": 4,
 "nbformat_minor": 5
}
